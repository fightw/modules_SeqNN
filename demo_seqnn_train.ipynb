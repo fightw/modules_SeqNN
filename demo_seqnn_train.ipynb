{
 "cells": [
  {
   "cell_type": "markdown",
   "source": [
    "### 读取5UTR，one-hot编码序列，并划分训练集和测试集"
   ],
   "metadata": {
    "collapsed": false
   }
  },
  {
   "cell_type": "code",
   "execution_count": null,
   "outputs": [],
   "source": [
    "from data_process_SeqNN import *\n",
    "import pandas as pd\n",
    "from SeqNN_Effblock import LegNet\n",
    "path = 'PC3.csv'\n",
    "UTR_df = pd.read_csv(path)\n",
    "train_loader, test_loader = create_dataloaders(UTR_df, seqsize=100)\n"
   ],
   "metadata": {
    "collapsed": false,
    "is_executing": true
   }
  },
  {
   "cell_type": "markdown",
   "source": [],
   "metadata": {
    "collapsed": false
   }
  },
  {
   "cell_type": "code",
   "execution_count": 43,
   "outputs": [],
   "source": [
    "from data_process_SeqNN import *\n",
    "import pandas as pd\n",
    "from SeqNN_Effblock import LegNet\n",
    "path1 = './序列多样性数据集/训练集/trainset_0~9_cluster.csv'\n",
    "path2 = './序列多样性数据集/测试集/testset_cluster_0_r.csv'\n",
    "train_df = pd.read_csv(path1)\n",
    "test_df = pd.read_csv(path2)\n",
    "\n",
    "train_loader, test_loader = create_dataloaders(train_df, test_df, seqsize=100)"
   ],
   "metadata": {
    "collapsed": false,
    "ExecuteTime": {
     "end_time": "2024-04-11T19:48:04.489077Z",
     "start_time": "2024-04-11T19:48:04.470098600Z"
    }
   }
  },
  {
   "cell_type": "markdown",
   "source": [
    "### 构建模型"
   ],
   "metadata": {
    "collapsed": false
   }
  },
  {
   "cell_type": "code",
   "execution_count": 44,
   "metadata": {
    "collapsed": true,
    "ExecuteTime": {
     "end_time": "2024-04-11T19:48:06.052678100Z",
     "start_time": "2024-04-11T19:48:06.015153200Z"
    }
   },
   "outputs": [
    {
     "name": "stdout",
     "output_type": "stream",
     "text": [
      "LegNet(\n",
      "  (stem_block): LocalBlock(\n",
      "    (block): Sequential(\n",
      "      (0): Conv1d(4, 256, kernel_size=(7,), stride=(1,), padding=same, bias=False)\n",
      "      (1): BatchNorm1d(256, eps=1e-05, momentum=0.1, affine=True, track_running_stats=True)\n",
      "      (2): SiLU()\n",
      "    )\n",
      "  )\n",
      "  (main): Sequential(\n",
      "    (0): Sequential(\n",
      "      (0): ResidualConcat(\n",
      "        (fn): EffBlock(\n",
      "          (block): Sequential(\n",
      "            (0): Conv1d(256, 1024, kernel_size=(1,), stride=(1,), padding=same, bias=False)\n",
      "            (1): BatchNorm1d(1024, eps=1e-05, momentum=0.1, affine=True, track_running_stats=True)\n",
      "            (2): SiLU()\n",
      "            (3): Conv1d(1024, 1024, kernel_size=(7,), stride=(1,), padding=same, groups=1024, bias=False)\n",
      "            (4): BatchNorm1d(1024, eps=1e-05, momentum=0.1, affine=True, track_running_stats=True)\n",
      "            (5): SiLU()\n",
      "            (6): SELayer(\n",
      "              (fc): Sequential(\n",
      "                (0): Linear(in_features=1024, out_features=64, bias=True)\n",
      "                (1): SiLU()\n",
      "                (2): Linear(in_features=64, out_features=1024, bias=True)\n",
      "                (3): Sigmoid()\n",
      "              )\n",
      "            )\n",
      "            (7): Conv1d(1024, 256, kernel_size=(1,), stride=(1,), padding=same, bias=False)\n",
      "            (8): BatchNorm1d(256, eps=1e-05, momentum=0.1, affine=True, track_running_stats=True)\n",
      "            (9): SiLU()\n",
      "          )\n",
      "        )\n",
      "      )\n",
      "      (1): LocalBlock(\n",
      "        (block): Sequential(\n",
      "          (0): Conv1d(512, 128, kernel_size=(7,), stride=(1,), padding=same, bias=False)\n",
      "          (1): BatchNorm1d(128, eps=1e-05, momentum=0.1, affine=True, track_running_stats=True)\n",
      "          (2): SiLU()\n",
      "        )\n",
      "      )\n",
      "    )\n",
      "    (1): Sequential(\n",
      "      (0): ResidualConcat(\n",
      "        (fn): EffBlock(\n",
      "          (block): Sequential(\n",
      "            (0): Conv1d(128, 512, kernel_size=(1,), stride=(1,), padding=same, bias=False)\n",
      "            (1): BatchNorm1d(512, eps=1e-05, momentum=0.1, affine=True, track_running_stats=True)\n",
      "            (2): SiLU()\n",
      "            (3): Conv1d(512, 512, kernel_size=(7,), stride=(1,), padding=same, groups=512, bias=False)\n",
      "            (4): BatchNorm1d(512, eps=1e-05, momentum=0.1, affine=True, track_running_stats=True)\n",
      "            (5): SiLU()\n",
      "            (6): SELayer(\n",
      "              (fc): Sequential(\n",
      "                (0): Linear(in_features=512, out_features=32, bias=True)\n",
      "                (1): SiLU()\n",
      "                (2): Linear(in_features=32, out_features=512, bias=True)\n",
      "                (3): Sigmoid()\n",
      "              )\n",
      "            )\n",
      "            (7): Conv1d(512, 128, kernel_size=(1,), stride=(1,), padding=same, bias=False)\n",
      "            (8): BatchNorm1d(128, eps=1e-05, momentum=0.1, affine=True, track_running_stats=True)\n",
      "            (9): SiLU()\n",
      "          )\n",
      "        )\n",
      "      )\n",
      "      (1): LocalBlock(\n",
      "        (block): Sequential(\n",
      "          (0): Conv1d(256, 128, kernel_size=(7,), stride=(1,), padding=same, bias=False)\n",
      "          (1): BatchNorm1d(128, eps=1e-05, momentum=0.1, affine=True, track_running_stats=True)\n",
      "          (2): SiLU()\n",
      "        )\n",
      "      )\n",
      "    )\n",
      "    (2): Sequential(\n",
      "      (0): ResidualConcat(\n",
      "        (fn): EffBlock(\n",
      "          (block): Sequential(\n",
      "            (0): Conv1d(128, 512, kernel_size=(1,), stride=(1,), padding=same, bias=False)\n",
      "            (1): BatchNorm1d(512, eps=1e-05, momentum=0.1, affine=True, track_running_stats=True)\n",
      "            (2): SiLU()\n",
      "            (3): Conv1d(512, 512, kernel_size=(7,), stride=(1,), padding=same, groups=512, bias=False)\n",
      "            (4): BatchNorm1d(512, eps=1e-05, momentum=0.1, affine=True, track_running_stats=True)\n",
      "            (5): SiLU()\n",
      "            (6): SELayer(\n",
      "              (fc): Sequential(\n",
      "                (0): Linear(in_features=512, out_features=32, bias=True)\n",
      "                (1): SiLU()\n",
      "                (2): Linear(in_features=32, out_features=512, bias=True)\n",
      "                (3): Sigmoid()\n",
      "              )\n",
      "            )\n",
      "            (7): Conv1d(512, 128, kernel_size=(1,), stride=(1,), padding=same, bias=False)\n",
      "            (8): BatchNorm1d(128, eps=1e-05, momentum=0.1, affine=True, track_running_stats=True)\n",
      "            (9): SiLU()\n",
      "          )\n",
      "        )\n",
      "      )\n",
      "      (1): LocalBlock(\n",
      "        (block): Sequential(\n",
      "          (0): Conv1d(256, 64, kernel_size=(7,), stride=(1,), padding=same, bias=False)\n",
      "          (1): BatchNorm1d(64, eps=1e-05, momentum=0.1, affine=True, track_running_stats=True)\n",
      "          (2): SiLU()\n",
      "        )\n",
      "      )\n",
      "    )\n",
      "    (3): Sequential(\n",
      "      (0): ResidualConcat(\n",
      "        (fn): EffBlock(\n",
      "          (block): Sequential(\n",
      "            (0): Conv1d(64, 256, kernel_size=(1,), stride=(1,), padding=same, bias=False)\n",
      "            (1): BatchNorm1d(256, eps=1e-05, momentum=0.1, affine=True, track_running_stats=True)\n",
      "            (2): SiLU()\n",
      "            (3): Conv1d(256, 256, kernel_size=(7,), stride=(1,), padding=same, groups=256, bias=False)\n",
      "            (4): BatchNorm1d(256, eps=1e-05, momentum=0.1, affine=True, track_running_stats=True)\n",
      "            (5): SiLU()\n",
      "            (6): SELayer(\n",
      "              (fc): Sequential(\n",
      "                (0): Linear(in_features=256, out_features=16, bias=True)\n",
      "                (1): SiLU()\n",
      "                (2): Linear(in_features=16, out_features=256, bias=True)\n",
      "                (3): Sigmoid()\n",
      "              )\n",
      "            )\n",
      "            (7): Conv1d(256, 64, kernel_size=(1,), stride=(1,), padding=same, bias=False)\n",
      "            (8): BatchNorm1d(64, eps=1e-05, momentum=0.1, affine=True, track_running_stats=True)\n",
      "            (9): SiLU()\n",
      "          )\n",
      "        )\n",
      "      )\n",
      "      (1): LocalBlock(\n",
      "        (block): Sequential(\n",
      "          (0): Conv1d(128, 64, kernel_size=(7,), stride=(1,), padding=same, bias=False)\n",
      "          (1): BatchNorm1d(64, eps=1e-05, momentum=0.1, affine=True, track_running_stats=True)\n",
      "          (2): SiLU()\n",
      "        )\n",
      "      )\n",
      "    )\n",
      "    (4): Sequential(\n",
      "      (0): ResidualConcat(\n",
      "        (fn): EffBlock(\n",
      "          (block): Sequential(\n",
      "            (0): Conv1d(64, 256, kernel_size=(1,), stride=(1,), padding=same, bias=False)\n",
      "            (1): BatchNorm1d(256, eps=1e-05, momentum=0.1, affine=True, track_running_stats=True)\n",
      "            (2): SiLU()\n",
      "            (3): Conv1d(256, 256, kernel_size=(7,), stride=(1,), padding=same, groups=256, bias=False)\n",
      "            (4): BatchNorm1d(256, eps=1e-05, momentum=0.1, affine=True, track_running_stats=True)\n",
      "            (5): SiLU()\n",
      "            (6): SELayer(\n",
      "              (fc): Sequential(\n",
      "                (0): Linear(in_features=256, out_features=16, bias=True)\n",
      "                (1): SiLU()\n",
      "                (2): Linear(in_features=16, out_features=256, bias=True)\n",
      "                (3): Sigmoid()\n",
      "              )\n",
      "            )\n",
      "            (7): Conv1d(256, 64, kernel_size=(1,), stride=(1,), padding=same, bias=False)\n",
      "            (8): BatchNorm1d(64, eps=1e-05, momentum=0.1, affine=True, track_running_stats=True)\n",
      "            (9): SiLU()\n",
      "          )\n",
      "        )\n",
      "      )\n",
      "      (1): LocalBlock(\n",
      "        (block): Sequential(\n",
      "          (0): Conv1d(128, 32, kernel_size=(7,), stride=(1,), padding=same, bias=False)\n",
      "          (1): BatchNorm1d(32, eps=1e-05, momentum=0.1, affine=True, track_running_stats=True)\n",
      "          (2): SiLU()\n",
      "        )\n",
      "      )\n",
      "    )\n",
      "    (5): Sequential(\n",
      "      (0): ResidualConcat(\n",
      "        (fn): EffBlock(\n",
      "          (block): Sequential(\n",
      "            (0): Conv1d(32, 128, kernel_size=(1,), stride=(1,), padding=same, bias=False)\n",
      "            (1): BatchNorm1d(128, eps=1e-05, momentum=0.1, affine=True, track_running_stats=True)\n",
      "            (2): SiLU()\n",
      "            (3): Conv1d(128, 128, kernel_size=(7,), stride=(1,), padding=same, groups=128, bias=False)\n",
      "            (4): BatchNorm1d(128, eps=1e-05, momentum=0.1, affine=True, track_running_stats=True)\n",
      "            (5): SiLU()\n",
      "            (6): SELayer(\n",
      "              (fc): Sequential(\n",
      "                (0): Linear(in_features=128, out_features=8, bias=True)\n",
      "                (1): SiLU()\n",
      "                (2): Linear(in_features=8, out_features=128, bias=True)\n",
      "                (3): Sigmoid()\n",
      "              )\n",
      "            )\n",
      "            (7): Conv1d(128, 32, kernel_size=(1,), stride=(1,), padding=same, bias=False)\n",
      "            (8): BatchNorm1d(32, eps=1e-05, momentum=0.1, affine=True, track_running_stats=True)\n",
      "            (9): SiLU()\n",
      "          )\n",
      "        )\n",
      "      )\n",
      "      (1): LocalBlock(\n",
      "        (block): Sequential(\n",
      "          (0): Conv1d(64, 32, kernel_size=(7,), stride=(1,), padding=same, bias=False)\n",
      "          (1): BatchNorm1d(32, eps=1e-05, momentum=0.1, affine=True, track_running_stats=True)\n",
      "          (2): SiLU()\n",
      "        )\n",
      "      )\n",
      "    )\n",
      "  )\n",
      "  (mapper): MappingBlock(\n",
      "    (block): Sequential(\n",
      "      (0): Conv1d(32, 13, kernel_size=(1,), stride=(1,), padding=same)\n",
      "      (1): Identity()\n",
      "    )\n",
      "  )\n",
      ")\n"
     ]
    }
   ],
   "source": [
    "from SeqNN_Effblock import *\n",
    "model = LegNet(use_single_channel=False, use_reverse_channel=False)\n",
    "print(model)"
   ]
  },
  {
   "cell_type": "markdown",
   "source": [
    "### 训练模型"
   ],
   "metadata": {
    "collapsed": false
   }
  },
  {
   "cell_type": "code",
   "execution_count": 45,
   "outputs": [
    {
     "name": "stderr",
     "output_type": "stream",
     "text": [
      "Training: 100%|██████████| 16/16 [00:03<00:00,  4.57it/s]\n",
      "Testing: 100%|██████████| 3/3 [00:00<00:00, 30.38it/s]\n"
     ]
    },
    {
     "name": "stdout",
     "output_type": "stream",
     "text": [
      "Epoch 1/50, Train Loss: 1.8155, Train Accuracy: 0.0691, Test Loss: 1.9304, Test Accuracy: 0.0000\n"
     ]
    },
    {
     "name": "stderr",
     "output_type": "stream",
     "text": [
      "Training: 100%|██████████| 16/16 [00:03<00:00,  4.84it/s]\n",
      "Testing: 100%|██████████| 3/3 [00:00<00:00, 31.47it/s]\n"
     ]
    },
    {
     "name": "stdout",
     "output_type": "stream",
     "text": [
      "Epoch 2/50, Train Loss: 1.7230, Train Accuracy: 0.3457, Test Loss: 2.0660, Test Accuracy: 0.0000\n"
     ]
    },
    {
     "name": "stderr",
     "output_type": "stream",
     "text": [
      "Training: 100%|██████████| 16/16 [00:03<00:00,  4.80it/s]\n",
      "Testing: 100%|██████████| 3/3 [00:00<00:00, 30.69it/s]\n"
     ]
    },
    {
     "name": "stdout",
     "output_type": "stream",
     "text": [
      "Epoch 3/50, Train Loss: 1.5798, Train Accuracy: 0.7012, Test Loss: 2.2862, Test Accuracy: 0.0521\n"
     ]
    },
    {
     "name": "stderr",
     "output_type": "stream",
     "text": [
      "Training: 100%|██████████| 16/16 [00:03<00:00,  4.83it/s]\n",
      "Testing: 100%|██████████| 3/3 [00:00<00:00, 30.69it/s]\n"
     ]
    },
    {
     "name": "stdout",
     "output_type": "stream",
     "text": [
      "Epoch 4/50, Train Loss: 1.3792, Train Accuracy: 0.8809, Test Loss: 1.9841, Test Accuracy: 0.3125\n",
      "EarlyStopping counter: 1 out of 100\n"
     ]
    },
    {
     "name": "stderr",
     "output_type": "stream",
     "text": [
      "Training: 100%|██████████| 16/16 [00:03<00:00,  4.85it/s]\n",
      "Testing: 100%|██████████| 3/3 [00:00<00:00, 31.33it/s]\n"
     ]
    },
    {
     "name": "stdout",
     "output_type": "stream",
     "text": [
      "Epoch 5/50, Train Loss: 1.2460, Train Accuracy: 0.9125, Test Loss: 1.8660, Test Accuracy: 0.4167\n",
      "EarlyStopping counter: 2 out of 100\n"
     ]
    },
    {
     "name": "stderr",
     "output_type": "stream",
     "text": [
      "Training: 100%|██████████| 16/16 [00:03<00:00,  4.84it/s]\n",
      "Testing: 100%|██████████| 3/3 [00:00<00:00, 29.49it/s]\n"
     ]
    },
    {
     "name": "stdout",
     "output_type": "stream",
     "text": [
      "Epoch 6/50, Train Loss: 1.1775, Train Accuracy: 0.9168, Test Loss: 1.7284, Test Accuracy: 0.3438\n",
      "EarlyStopping counter: 3 out of 100\n"
     ]
    },
    {
     "name": "stderr",
     "output_type": "stream",
     "text": [
      "Training: 100%|██████████| 16/16 [00:03<00:00,  4.80it/s]\n",
      "Testing: 100%|██████████| 3/3 [00:00<00:00, 27.59it/s]\n"
     ]
    },
    {
     "name": "stdout",
     "output_type": "stream",
     "text": [
      "Epoch 7/50, Train Loss: 1.1289, Train Accuracy: 0.9324, Test Loss: 1.7879, Test Accuracy: 0.3125\n",
      "EarlyStopping counter: 4 out of 100\n"
     ]
    },
    {
     "name": "stderr",
     "output_type": "stream",
     "text": [
      "Training: 100%|██████████| 16/16 [00:03<00:00,  4.71it/s]\n",
      "Testing: 100%|██████████| 3/3 [00:00<00:00, 31.66it/s]\n"
     ]
    },
    {
     "name": "stdout",
     "output_type": "stream",
     "text": [
      "Epoch 8/50, Train Loss: 1.1013, Train Accuracy: 0.9297, Test Loss: 1.7581, Test Accuracy: 0.4583\n",
      "EarlyStopping counter: 5 out of 100\n"
     ]
    },
    {
     "name": "stderr",
     "output_type": "stream",
     "text": [
      "Training: 100%|██████████| 16/16 [00:03<00:00,  4.82it/s]\n",
      "Testing: 100%|██████████| 3/3 [00:00<00:00, 30.84it/s]\n"
     ]
    },
    {
     "name": "stdout",
     "output_type": "stream",
     "text": [
      "Epoch 9/50, Train Loss: 1.0641, Train Accuracy: 0.9324, Test Loss: 1.7186, Test Accuracy: 0.3333\n",
      "EarlyStopping counter: 6 out of 100\n"
     ]
    },
    {
     "name": "stderr",
     "output_type": "stream",
     "text": [
      "Training: 100%|██████████| 16/16 [00:03<00:00,  4.81it/s]\n",
      "Testing: 100%|██████████| 3/3 [00:00<00:00, 30.70it/s]\n"
     ]
    },
    {
     "name": "stdout",
     "output_type": "stream",
     "text": [
      "Epoch 10/50, Train Loss: 1.0433, Train Accuracy: 0.9344, Test Loss: 1.7227, Test Accuracy: 0.4479\n",
      "EarlyStopping counter: 7 out of 100\n"
     ]
    },
    {
     "name": "stderr",
     "output_type": "stream",
     "text": [
      "Training: 100%|██████████| 16/16 [00:03<00:00,  4.81it/s]\n",
      "Testing: 100%|██████████| 3/3 [00:00<00:00, 31.32it/s]\n"
     ]
    },
    {
     "name": "stdout",
     "output_type": "stream",
     "text": [
      "Epoch 11/50, Train Loss: 1.0191, Train Accuracy: 0.9355, Test Loss: 1.6882, Test Accuracy: 0.3125\n",
      "EarlyStopping counter: 8 out of 100\n"
     ]
    },
    {
     "name": "stderr",
     "output_type": "stream",
     "text": [
      "Training: 100%|██████████| 16/16 [00:03<00:00,  4.63it/s]\n",
      "Testing: 100%|██████████| 3/3 [00:00<00:00, 30.69it/s]\n"
     ]
    },
    {
     "name": "stdout",
     "output_type": "stream",
     "text": [
      "Epoch 12/50, Train Loss: 0.9920, Train Accuracy: 0.9324, Test Loss: 1.6919, Test Accuracy: 0.4792\n",
      "EarlyStopping counter: 9 out of 100\n"
     ]
    },
    {
     "name": "stderr",
     "output_type": "stream",
     "text": [
      "Training: 100%|██████████| 16/16 [00:03<00:00,  4.79it/s]\n",
      "Testing: 100%|██████████| 3/3 [00:00<00:00, 30.27it/s]\n"
     ]
    },
    {
     "name": "stdout",
     "output_type": "stream",
     "text": [
      "Epoch 13/50, Train Loss: 0.9853, Train Accuracy: 0.9383, Test Loss: 1.5684, Test Accuracy: 0.4896\n",
      "EarlyStopping counter: 10 out of 100\n"
     ]
    },
    {
     "name": "stderr",
     "output_type": "stream",
     "text": [
      "Training: 100%|██████████| 16/16 [00:03<00:00,  4.77it/s]\n",
      "Testing: 100%|██████████| 3/3 [00:00<00:00, 26.88it/s]\n"
     ]
    },
    {
     "name": "stdout",
     "output_type": "stream",
     "text": [
      "Epoch 14/50, Train Loss: 0.9446, Train Accuracy: 0.9410, Test Loss: 1.5484, Test Accuracy: 0.4896\n",
      "EarlyStopping counter: 11 out of 100\n"
     ]
    },
    {
     "name": "stderr",
     "output_type": "stream",
     "text": [
      "Training: 100%|██████████| 16/16 [00:03<00:00,  4.77it/s]\n",
      "Testing: 100%|██████████| 3/3 [00:00<00:00, 28.65it/s]\n"
     ]
    },
    {
     "name": "stdout",
     "output_type": "stream",
     "text": [
      "Epoch 15/50, Train Loss: 0.9325, Train Accuracy: 0.9441, Test Loss: 1.5770, Test Accuracy: 0.4792\n",
      "EarlyStopping counter: 12 out of 100\n"
     ]
    },
    {
     "name": "stderr",
     "output_type": "stream",
     "text": [
      "Training: 100%|██████████| 16/16 [00:03<00:00,  4.76it/s]\n",
      "Testing: 100%|██████████| 3/3 [00:00<00:00, 31.45it/s]\n"
     ]
    },
    {
     "name": "stdout",
     "output_type": "stream",
     "text": [
      "Epoch 16/50, Train Loss: 0.9049, Train Accuracy: 0.9477, Test Loss: 1.4510, Test Accuracy: 0.3750\n",
      "EarlyStopping counter: 13 out of 100\n"
     ]
    },
    {
     "name": "stderr",
     "output_type": "stream",
     "text": [
      "Training: 100%|██████████| 16/16 [00:03<00:00,  4.74it/s]\n",
      "Testing: 100%|██████████| 3/3 [00:00<00:00, 30.38it/s]\n"
     ]
    },
    {
     "name": "stdout",
     "output_type": "stream",
     "text": [
      "Epoch 17/50, Train Loss: 0.8844, Train Accuracy: 0.9406, Test Loss: 1.3722, Test Accuracy: 0.5104\n",
      "EarlyStopping counter: 14 out of 100\n"
     ]
    },
    {
     "name": "stderr",
     "output_type": "stream",
     "text": [
      "Training: 100%|██████████| 16/16 [00:03<00:00,  4.67it/s]\n",
      "Testing: 100%|██████████| 3/3 [00:00<00:00, 25.82it/s]\n"
     ]
    },
    {
     "name": "stdout",
     "output_type": "stream",
     "text": [
      "Epoch 18/50, Train Loss: 0.8745, Train Accuracy: 0.9391, Test Loss: 1.7984, Test Accuracy: 0.4583\n",
      "EarlyStopping counter: 15 out of 100\n"
     ]
    },
    {
     "name": "stderr",
     "output_type": "stream",
     "text": [
      "Training: 100%|██████████| 16/16 [00:03<00:00,  4.69it/s]\n",
      "Testing: 100%|██████████| 3/3 [00:00<00:00, 30.69it/s]\n"
     ]
    },
    {
     "name": "stdout",
     "output_type": "stream",
     "text": [
      "Epoch 19/50, Train Loss: 0.8440, Train Accuracy: 0.9453, Test Loss: 1.4333, Test Accuracy: 0.4062\n",
      "EarlyStopping counter: 16 out of 100\n"
     ]
    },
    {
     "name": "stderr",
     "output_type": "stream",
     "text": [
      "Training: 100%|██████████| 16/16 [00:03<00:00,  4.77it/s]\n",
      "Testing: 100%|██████████| 3/3 [00:00<00:00, 30.81it/s]\n"
     ]
    },
    {
     "name": "stdout",
     "output_type": "stream",
     "text": [
      "Epoch 20/50, Train Loss: 0.8335, Train Accuracy: 0.9348, Test Loss: 1.3680, Test Accuracy: 0.4792\n",
      "EarlyStopping counter: 17 out of 100\n"
     ]
    },
    {
     "name": "stderr",
     "output_type": "stream",
     "text": [
      "Training: 100%|██████████| 16/16 [00:03<00:00,  4.70it/s]\n",
      "Testing: 100%|██████████| 3/3 [00:00<00:00, 30.38it/s]\n"
     ]
    },
    {
     "name": "stdout",
     "output_type": "stream",
     "text": [
      "Epoch 21/50, Train Loss: 0.8059, Train Accuracy: 0.9492, Test Loss: 1.4801, Test Accuracy: 0.4479\n",
      "EarlyStopping counter: 18 out of 100\n"
     ]
    },
    {
     "name": "stderr",
     "output_type": "stream",
     "text": [
      "Training: 100%|██████████| 16/16 [00:03<00:00,  4.73it/s]\n",
      "Testing: 100%|██████████| 3/3 [00:00<00:00, 28.47it/s]\n"
     ]
    },
    {
     "name": "stdout",
     "output_type": "stream",
     "text": [
      "Epoch 22/50, Train Loss: 0.8015, Train Accuracy: 0.9270, Test Loss: 1.3740, Test Accuracy: 0.2917\n",
      "EarlyStopping counter: 19 out of 100\n"
     ]
    },
    {
     "name": "stderr",
     "output_type": "stream",
     "text": [
      "Training: 100%|██████████| 16/16 [00:03<00:00,  4.71it/s]\n",
      "Testing: 100%|██████████| 3/3 [00:00<00:00, 30.34it/s]\n"
     ]
    },
    {
     "name": "stdout",
     "output_type": "stream",
     "text": [
      "Epoch 23/50, Train Loss: 0.7802, Train Accuracy: 0.9473, Test Loss: 1.5610, Test Accuracy: 0.3229\n",
      "EarlyStopping counter: 20 out of 100\n"
     ]
    },
    {
     "name": "stderr",
     "output_type": "stream",
     "text": [
      "Training: 100%|██████████| 16/16 [00:03<00:00,  4.74it/s]\n",
      "Testing: 100%|██████████| 3/3 [00:00<00:00, 27.74it/s]\n"
     ]
    },
    {
     "name": "stdout",
     "output_type": "stream",
     "text": [
      "Epoch 24/50, Train Loss: 0.7583, Train Accuracy: 0.9402, Test Loss: 1.3449, Test Accuracy: 0.4167\n",
      "EarlyStopping counter: 21 out of 100\n"
     ]
    },
    {
     "name": "stderr",
     "output_type": "stream",
     "text": [
      "Training: 100%|██████████| 16/16 [00:03<00:00,  4.73it/s]\n",
      "Testing: 100%|██████████| 3/3 [00:00<00:00, 28.93it/s]\n"
     ]
    },
    {
     "name": "stdout",
     "output_type": "stream",
     "text": [
      "Epoch 25/50, Train Loss: 0.7451, Train Accuracy: 0.9418, Test Loss: 1.3609, Test Accuracy: 0.3229\n",
      "EarlyStopping counter: 22 out of 100\n"
     ]
    },
    {
     "name": "stderr",
     "output_type": "stream",
     "text": [
      "Training: 100%|██████████| 16/16 [00:03<00:00,  4.67it/s]\n",
      "Testing: 100%|██████████| 3/3 [00:00<00:00, 20.43it/s]\n"
     ]
    },
    {
     "name": "stdout",
     "output_type": "stream",
     "text": [
      "Epoch 26/50, Train Loss: 0.7143, Train Accuracy: 0.9492, Test Loss: 1.4252, Test Accuracy: 0.4271\n",
      "EarlyStopping counter: 23 out of 100\n"
     ]
    },
    {
     "name": "stderr",
     "output_type": "stream",
     "text": [
      "Training: 100%|██████████| 16/16 [00:03<00:00,  4.50it/s]\n",
      "Testing: 100%|██████████| 3/3 [00:00<00:00, 27.14it/s]\n"
     ]
    },
    {
     "name": "stdout",
     "output_type": "stream",
     "text": [
      "Epoch 27/50, Train Loss: 0.6975, Train Accuracy: 0.9434, Test Loss: 1.4495, Test Accuracy: 0.3021\n",
      "EarlyStopping counter: 24 out of 100\n"
     ]
    },
    {
     "name": "stderr",
     "output_type": "stream",
     "text": [
      "Training: 100%|██████████| 16/16 [00:03<00:00,  4.65it/s]\n",
      "Testing: 100%|██████████| 3/3 [00:00<00:00, 28.65it/s]\n"
     ]
    },
    {
     "name": "stdout",
     "output_type": "stream",
     "text": [
      "Epoch 28/50, Train Loss: 0.6828, Train Accuracy: 0.9480, Test Loss: 1.5030, Test Accuracy: 0.4792\n",
      "EarlyStopping counter: 25 out of 100\n"
     ]
    },
    {
     "name": "stderr",
     "output_type": "stream",
     "text": [
      "Training: 100%|██████████| 16/16 [00:03<00:00,  4.61it/s]\n",
      "Testing: 100%|██████████| 3/3 [00:00<00:00, 28.12it/s]\n"
     ]
    },
    {
     "name": "stdout",
     "output_type": "stream",
     "text": [
      "Epoch 29/50, Train Loss: 0.6731, Train Accuracy: 0.9387, Test Loss: 1.4921, Test Accuracy: 0.4479\n",
      "EarlyStopping counter: 26 out of 100\n"
     ]
    },
    {
     "name": "stderr",
     "output_type": "stream",
     "text": [
      "Training: 100%|██████████| 16/16 [00:03<00:00,  4.70it/s]\n",
      "Testing: 100%|██████████| 3/3 [00:00<00:00, 23.50it/s]\n"
     ]
    },
    {
     "name": "stdout",
     "output_type": "stream",
     "text": [
      "Epoch 30/50, Train Loss: 0.6480, Train Accuracy: 0.9488, Test Loss: 1.3857, Test Accuracy: 0.4479\n",
      "EarlyStopping counter: 27 out of 100\n"
     ]
    },
    {
     "name": "stderr",
     "output_type": "stream",
     "text": [
      "Training: 100%|██████████| 16/16 [00:03<00:00,  4.62it/s]\n",
      "Testing: 100%|██████████| 3/3 [00:00<00:00, 29.34it/s]\n"
     ]
    },
    {
     "name": "stdout",
     "output_type": "stream",
     "text": [
      "Epoch 31/50, Train Loss: 0.6305, Train Accuracy: 0.9480, Test Loss: 1.6232, Test Accuracy: 0.4688\n",
      "EarlyStopping counter: 28 out of 100\n"
     ]
    },
    {
     "name": "stderr",
     "output_type": "stream",
     "text": [
      "Training: 100%|██████████| 16/16 [00:03<00:00,  4.60it/s]\n",
      "Testing: 100%|██████████| 3/3 [00:00<00:00, 26.62it/s]\n"
     ]
    },
    {
     "name": "stdout",
     "output_type": "stream",
     "text": [
      "Epoch 32/50, Train Loss: 0.6269, Train Accuracy: 0.9336, Test Loss: 1.4998, Test Accuracy: 0.4062\n",
      "EarlyStopping counter: 29 out of 100\n"
     ]
    },
    {
     "name": "stderr",
     "output_type": "stream",
     "text": [
      "Training: 100%|██████████| 16/16 [00:03<00:00,  4.57it/s]\n",
      "Testing: 100%|██████████| 3/3 [00:00<00:00, 22.43it/s]\n"
     ]
    },
    {
     "name": "stdout",
     "output_type": "stream",
     "text": [
      "Epoch 33/50, Train Loss: 0.5973, Train Accuracy: 0.9531, Test Loss: 1.4116, Test Accuracy: 0.4583\n",
      "EarlyStopping counter: 30 out of 100\n"
     ]
    },
    {
     "name": "stderr",
     "output_type": "stream",
     "text": [
      "Training: 100%|██████████| 16/16 [00:03<00:00,  4.66it/s]\n",
      "Testing: 100%|██████████| 3/3 [00:00<00:00, 26.16it/s]\n"
     ]
    },
    {
     "name": "stdout",
     "output_type": "stream",
     "text": [
      "Epoch 34/50, Train Loss: 0.5905, Train Accuracy: 0.9453, Test Loss: 1.5903, Test Accuracy: 0.4375\n",
      "EarlyStopping counter: 31 out of 100\n"
     ]
    },
    {
     "name": "stderr",
     "output_type": "stream",
     "text": [
      "Training: 100%|██████████| 16/16 [00:03<00:00,  4.59it/s]\n",
      "Testing: 100%|██████████| 3/3 [00:00<00:00, 25.49it/s]\n"
     ]
    },
    {
     "name": "stdout",
     "output_type": "stream",
     "text": [
      "Epoch 35/50, Train Loss: 0.5857, Train Accuracy: 0.9367, Test Loss: 1.1865, Test Accuracy: 0.4896\n",
      "EarlyStopping counter: 32 out of 100\n"
     ]
    },
    {
     "name": "stderr",
     "output_type": "stream",
     "text": [
      "Training: 100%|██████████| 16/16 [00:03<00:00,  4.64it/s]\n",
      "Testing: 100%|██████████| 3/3 [00:00<00:00, 26.39it/s]\n"
     ]
    },
    {
     "name": "stdout",
     "output_type": "stream",
     "text": [
      "Epoch 36/50, Train Loss: 0.5544, Train Accuracy: 0.9500, Test Loss: 1.2101, Test Accuracy: 0.5104\n",
      "EarlyStopping counter: 33 out of 100\n"
     ]
    },
    {
     "name": "stderr",
     "output_type": "stream",
     "text": [
      "Training: 100%|██████████| 16/16 [00:03<00:00,  4.57it/s]\n",
      "Testing: 100%|██████████| 3/3 [00:00<00:00, 28.38it/s]\n"
     ]
    },
    {
     "name": "stdout",
     "output_type": "stream",
     "text": [
      "Epoch 37/50, Train Loss: 0.5401, Train Accuracy: 0.9531, Test Loss: 1.3764, Test Accuracy: 0.5000\n",
      "EarlyStopping counter: 34 out of 100\n"
     ]
    },
    {
     "name": "stderr",
     "output_type": "stream",
     "text": [
      "Training: 100%|██████████| 16/16 [00:03<00:00,  4.59it/s]\n",
      "Testing: 100%|██████████| 3/3 [00:00<00:00, 28.17it/s]\n"
     ]
    },
    {
     "name": "stdout",
     "output_type": "stream",
     "text": [
      "Epoch 38/50, Train Loss: 0.5214, Train Accuracy: 0.9441, Test Loss: 1.2417, Test Accuracy: 0.4271\n",
      "EarlyStopping counter: 35 out of 100\n"
     ]
    },
    {
     "name": "stderr",
     "output_type": "stream",
     "text": [
      "Training: 100%|██████████| 16/16 [00:03<00:00,  4.57it/s]\n",
      "Testing: 100%|██████████| 3/3 [00:00<00:00, 27.64it/s]\n"
     ]
    },
    {
     "name": "stdout",
     "output_type": "stream",
     "text": [
      "Epoch 39/50, Train Loss: 0.5063, Train Accuracy: 0.9434, Test Loss: 1.1987, Test Accuracy: 0.4688\n",
      "EarlyStopping counter: 36 out of 100\n"
     ]
    },
    {
     "name": "stderr",
     "output_type": "stream",
     "text": [
      "Training: 100%|██████████| 16/16 [00:03<00:00,  4.56it/s]\n",
      "Testing: 100%|██████████| 3/3 [00:00<00:00, 27.34it/s]\n"
     ]
    },
    {
     "name": "stdout",
     "output_type": "stream",
     "text": [
      "Epoch 40/50, Train Loss: 0.5051, Train Accuracy: 0.9441, Test Loss: 1.2502, Test Accuracy: 0.4479\n",
      "EarlyStopping counter: 37 out of 100\n"
     ]
    },
    {
     "name": "stderr",
     "output_type": "stream",
     "text": [
      "Training: 100%|██████████| 16/16 [00:03<00:00,  4.47it/s]\n",
      "Testing: 100%|██████████| 3/3 [00:00<00:00, 27.35it/s]\n"
     ]
    },
    {
     "name": "stdout",
     "output_type": "stream",
     "text": [
      "Epoch 41/50, Train Loss: 0.4713, Train Accuracy: 0.9531, Test Loss: 1.0764, Test Accuracy: 0.5000\n",
      "EarlyStopping counter: 38 out of 100\n"
     ]
    },
    {
     "name": "stderr",
     "output_type": "stream",
     "text": [
      "Training: 100%|██████████| 16/16 [00:03<00:00,  4.59it/s]\n",
      "Testing: 100%|██████████| 3/3 [00:00<00:00, 27.92it/s]\n"
     ]
    },
    {
     "name": "stdout",
     "output_type": "stream",
     "text": [
      "Epoch 42/50, Train Loss: 0.4833, Train Accuracy: 0.9422, Test Loss: 1.1987, Test Accuracy: 0.5000\n",
      "EarlyStopping counter: 39 out of 100\n"
     ]
    },
    {
     "name": "stderr",
     "output_type": "stream",
     "text": [
      "Training: 100%|██████████| 16/16 [00:03<00:00,  4.58it/s]\n",
      "Testing: 100%|██████████| 3/3 [00:00<00:00, 26.62it/s]\n"
     ]
    },
    {
     "name": "stdout",
     "output_type": "stream",
     "text": [
      "Epoch 43/50, Train Loss: 0.4853, Train Accuracy: 0.9332, Test Loss: 1.2454, Test Accuracy: 0.4583\n",
      "EarlyStopping counter: 40 out of 100\n"
     ]
    },
    {
     "name": "stderr",
     "output_type": "stream",
     "text": [
      "Training: 100%|██████████| 16/16 [00:03<00:00,  4.63it/s]\n",
      "Testing: 100%|██████████| 3/3 [00:00<00:00, 25.93it/s]\n"
     ]
    },
    {
     "name": "stdout",
     "output_type": "stream",
     "text": [
      "Epoch 44/50, Train Loss: 0.4743, Train Accuracy: 0.9336, Test Loss: 1.4195, Test Accuracy: 0.5104\n",
      "EarlyStopping counter: 41 out of 100\n"
     ]
    },
    {
     "name": "stderr",
     "output_type": "stream",
     "text": [
      "Training: 100%|██████████| 16/16 [00:03<00:00,  4.38it/s]\n",
      "Testing: 100%|██████████| 3/3 [00:00<00:00, 25.66it/s]\n"
     ]
    },
    {
     "name": "stdout",
     "output_type": "stream",
     "text": [
      "Epoch 45/50, Train Loss: 0.4538, Train Accuracy: 0.9422, Test Loss: 1.3820, Test Accuracy: 0.5104\n",
      "EarlyStopping counter: 42 out of 100\n"
     ]
    },
    {
     "name": "stderr",
     "output_type": "stream",
     "text": [
      "Training: 100%|██████████| 16/16 [00:03<00:00,  4.48it/s]\n",
      "Testing: 100%|██████████| 3/3 [00:00<00:00, 26.03it/s]\n"
     ]
    },
    {
     "name": "stdout",
     "output_type": "stream",
     "text": [
      "Epoch 46/50, Train Loss: 0.4238, Train Accuracy: 0.9512, Test Loss: 1.4483, Test Accuracy: 0.4479\n",
      "EarlyStopping counter: 43 out of 100\n"
     ]
    },
    {
     "name": "stderr",
     "output_type": "stream",
     "text": [
      "Training: 100%|██████████| 16/16 [00:03<00:00,  4.59it/s]\n",
      "Testing: 100%|██████████| 3/3 [00:00<00:00, 27.94it/s]\n"
     ]
    },
    {
     "name": "stdout",
     "output_type": "stream",
     "text": [
      "Epoch 47/50, Train Loss: 0.4356, Train Accuracy: 0.9375, Test Loss: 1.1067, Test Accuracy: 0.4479\n",
      "EarlyStopping counter: 44 out of 100\n"
     ]
    },
    {
     "name": "stderr",
     "output_type": "stream",
     "text": [
      "Training: 100%|██████████| 16/16 [00:03<00:00,  4.54it/s]\n",
      "Testing: 100%|██████████| 3/3 [00:00<00:00, 27.85it/s]\n"
     ]
    },
    {
     "name": "stdout",
     "output_type": "stream",
     "text": [
      "Epoch 48/50, Train Loss: 0.4068, Train Accuracy: 0.9551, Test Loss: 1.3905, Test Accuracy: 0.4792\n",
      "EarlyStopping counter: 45 out of 100\n"
     ]
    },
    {
     "name": "stderr",
     "output_type": "stream",
     "text": [
      "Training: 100%|██████████| 16/16 [00:03<00:00,  4.49it/s]\n",
      "Testing: 100%|██████████| 3/3 [00:00<00:00, 27.09it/s]\n"
     ]
    },
    {
     "name": "stdout",
     "output_type": "stream",
     "text": [
      "Epoch 49/50, Train Loss: 0.4022, Train Accuracy: 0.9422, Test Loss: 1.4916, Test Accuracy: 0.5104\n",
      "EarlyStopping counter: 46 out of 100\n"
     ]
    },
    {
     "name": "stderr",
     "output_type": "stream",
     "text": [
      "Training: 100%|██████████| 16/16 [00:03<00:00,  4.37it/s]\n",
      "Testing: 100%|██████████| 3/3 [00:00<00:00, 26.92it/s]\n"
     ]
    },
    {
     "name": "stdout",
     "output_type": "stream",
     "text": [
      "Epoch 50/50, Train Loss: 0.3798, Train Accuracy: 0.9520, Test Loss: 1.3538, Test Accuracy: 0.4688\n",
      "EarlyStopping counter: 47 out of 100\n",
      "Finished Training\n"
     ]
    },
    {
     "data": {
      "text/plain": "<Figure size 1000x600 with 2 Axes>",
      "image/png": "[encoded data removed]"
     },
     "metadata": {},
     "output_type": "display_data"
    }
   ],
   "source": [
    "from train_module import Trainer\n",
    "device = torch.device(\"cuda\" if torch.cuda.is_available() else \"cpu\")\n",
    "trainer = Trainer(model, train_loader, test_loader, device, task_type='classification',epochs=50)\n",
    "train_loss_values, train_accuracy_values, test_loss_values, test_accuracy_values = trainer.train()"
   ],
   "metadata": {
    "collapsed": false,
    "ExecuteTime": {
     "end_time": "2024-04-11T19:51:05.673024200Z",
     "start_time": "2024-04-11T19:48:07.713240900Z"
    }
   }
  },
  {
   "cell_type": "code",
   "execution_count": 26,
   "outputs": [],
   "source": [
    "torch.save(model.state_dict(), 'best_trained_model.pth')"
   ],
   "metadata": {
    "collapsed": false,
    "ExecuteTime": {
     "end_time": "2024-04-11T19:16:09.459082400Z",
     "start_time": "2024-04-11T19:16:09.312474700Z"
    }
   }
  },
  {
   "cell_type": "code",
   "execution_count": 12,
   "outputs": [
    {
     "data": {
      "text/plain": "<All keys matched successfully>"
     },
     "execution_count": 12,
     "metadata": {},
     "output_type": "execute_result"
    }
   ],
   "source": [
    "model.load_state_dict(torch.load('best_trained_model.pth'))"
   ],
   "metadata": {
    "collapsed": false,
    "ExecuteTime": {
     "end_time": "2024-01-26T14:59:09.671877700Z",
     "start_time": "2024-01-26T14:59:09.583531900Z"
    }
   }
  },
  {
   "cell_type": "code",
   "execution_count": 64,
   "outputs": [],
   "source": [
    "from data_process_SeqNN import *\n",
    "import pandas as pd\n",
    "from SeqNN_Effblock import LegNet\n",
    "path1 = './序列多样性数据集/训练集/trainset_5_7_cluster.csv'\n",
    "path2 = './序列多样性数据集/测试集/testset_cluster_9_r.csv'\n",
    "train_df = pd.read_csv(path1)\n",
    "test_df = pd.read_csv(path2)\n",
    "\n",
    "train_loader, test_loader = create_dataloaders(train_df, test_df, seqsize=100)\n",
    "device = torch.device(\"cuda\" if torch.cuda.is_available() else \"cpu\")"
   ],
   "metadata": {
    "collapsed": false,
    "ExecuteTime": {
     "end_time": "2024-04-11T19:55:26.032634100Z",
     "start_time": "2024-04-11T19:55:25.981620400Z"
    }
   }
  },
  {
   "cell_type": "code",
   "execution_count": 65,
   "outputs": [
    {
     "name": "stderr",
     "output_type": "stream",
     "text": [
      "Predicting on Test Set: 100%|██████████| 3/3 [00:00<00:00,  8.99it/s]\n"
     ]
    },
    {
     "name": "stdout",
     "output_type": "stream",
     "text": [
      "Pearson Correlation Coefficient on Test Set: 0.0954076672134958\n",
      "R2 Score on Test Set: 0.009102622963121162\n"
     ]
    },
    {
     "data": {
      "text/plain": "<Figure size 600x600 with 3 Axes>",
      "image/png": "[encoded data removed]"
     },
     "metadata": {},
     "output_type": "display_data"
    }
   ],
   "source": [
    "from tqdm import tqdm\n",
    "from scipy.stats import pearsonr\n",
    "\n",
    "from scipy.stats import spearmanr\n",
    "\n",
    "from sklearn.metrics import accuracy_score, mean_squared_error, r2_score\n",
    "\n",
    "\n",
    "import seaborn as sns\n",
    "import matplotlib.pyplot as plt\n",
    "import matplotlib as mpl\n",
    "# Calculate the R2 score for the test set and plot the R2 graph\n",
    "# 将模型应用于测试集\n",
    "y_pred = []\n",
    "y_true = []\n",
    "\n",
    "for inputs, labels, MRL in tqdm(test_loader, desc=\"Predicting on Test Set\"):\n",
    "    # 将输入数据移动到同样的设备上\n",
    "    inputs, labels, MRL = inputs.to(device), labels.to(device), MRL.float().to(device)\n",
    "    model_output = model(inputs)\n",
    "    yprobs, score = model_output\n",
    "    # 将输出数据移回到CPU上，并转换为numpy数组\n",
    "    y_pred.append(score.detach().cpu().numpy().squeeze())\n",
    "    y_true.append(MRL.cpu().numpy().squeeze())\n",
    "\n",
    "# 将列表转换为NumPy数组\n",
    "y_pred = np.hstack(y_pred)\n",
    "y_true = np.hstack(y_true)\n",
    "\n",
    "# 计算Pearson相关系数和R2得分\n",
    "# r, p_value = pearsonr(y_pred, y_true)\n",
    "\n",
    "r, p_value = spearmanr(y_pred, y_true)#获取相关性和P值\n",
    "\n",
    "r2 = r2_score(y_true, y_pred)  # 计算R2得分\n",
    "\n",
    "# r2 = r**2\n",
    "print('Pearson Correlation Coefficient on Test Set:', r)\n",
    "print('R2 Score on Test Set:', r2)\n",
    "\n",
    "# 绘制散点图和拟合曲线\n",
    "sns.jointplot(x=y_true, y=y_pred, scatter_kws={'s': 0.8}, kind='reg')\n",
    "plt.xlabel('True Values')\n",
    "plt.ylabel('Predictions')\n",
    "# 设置标题位置和字体大小\n",
    "plt.text(0.98, 0.95, f'R2 Score: {r2:.2f}\\nPearson r: {r:.2f}',\n",
    "         transform=plt.gca().transAxes, ha='right', va='top',\n",
    "         fontsize=10)\n",
    "\n",
    "# 设置标题字体大小\n",
    "mpl.rcParams['axes.titlesize'] = 12\n",
    "\n",
    "plt.show()"
   ],
   "metadata": {
    "collapsed": false,
    "ExecuteTime": {
     "end_time": "2024-04-11T19:55:27.691013400Z",
     "start_time": "2024-04-11T19:55:26.518314700Z"
    }
   }
  },
  {
   "cell_type": "code",
   "execution_count": 32,
   "outputs": [],
   "source": [],
   "metadata": {
    "collapsed": false,
    "ExecuteTime": {
     "end_time": "2024-04-11T19:45:42.467070300Z",
     "start_time": "2024-04-11T19:45:42.451258600Z"
    }
   }
  },
  {
   "cell_type": "markdown",
   "source": [],
   "metadata": {
    "collapsed": false
   }
  }
 ],
 "metadata": {
  "kernelspec": {
   "display_name": "Python 3",
   "language": "python",
   "name": "python3"
  },
  "language_info": {
   "codemirror_mode": {
    "name": "ipython",
    "version": 2
   },
   "file_extension": ".py",
   "mimetype": "text/x-python",
   "name": "python",
   "nbconvert_exporter": "python",
   "pygments_lexer": "ipython2",
   "version": "2.7.6"
  }
 },
 "nbformat": 4,
 "nbformat_minor": 0
}
